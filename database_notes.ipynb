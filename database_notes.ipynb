{
 "cells": [
  {
   "cell_type": "markdown",
   "id": "7657c5a8",
   "metadata": {},
   "source": [
    "## 關聯式資料庫\n",
    "* 由資料表(Table)、紀錄(Record)、欄位(Field)以及資料(Data)組成\n",
    "* 資料彼此間具有相互關聯的特性\n",
    "* 不同的資料表間，可透過特定欄位將資料串起來\n",
    "* 藉由正規化(Normalization)方法，將資料做最有效率的儲存， 避免重複的資料存在不同資料表中\n",
    "* 常見的關聯式資料庫有：\n",
    "    * SQLite\n",
    "    * MySQL\n",
    "    * PostgreSQL\n",
    "    * MariaDB\n",
    "    * Microsoft SQL Server\n",
    "    * Oracle Database\n",
    "    * DB2"
   ]
  },
  {
   "cell_type": "markdown",
   "id": "7ee2f766",
   "metadata": {},
   "source": [
    "## SQL語法\n",
    "* SQL 以 keyword 關鍵字、資料表(table)名稱和欄位(column)名稱當作一段完整語句\n",
    "* SQL 語法使用分號 ; 當作結尾\n",
    "* 文字母不區分大小寫，單字間使用空白分隔\n",
    "* 避免特殊字元的方法：資料如果為文字需要加上單引號''。資料庫名稱、資料表名稱或欄位名稱可以用 \\` 前後框起來，避免特殊單字影響 SQL 指令運行。 \\` 和 ' 容易混淆，判斷技巧：從資料庫裡面讀出來的資料用 \\` ，從外面要存進去的資料用 ' 。例如 UPDATE \\`test\\` SET \\`name\\`='muse', \\`age\\`=30, \\`job\\`='designer' WHERE \\`id\\`=5\n",
    "* SQL語言分類：\n",
    "    * DDL(Data Definition Language)：建立或刪除資料庫和資料表等用來儲存的單位。包括CREATE:建立資料庫的物件、ALTER:變更資料庫的物件、DROP:刪除資料庫的物件\n",
    "    * DML(Data Manipulation Language)：查詢或修改資料表的紀錄。包括INSERT:新增資料到資料表中、UPDATE:更改資料表中的資料、DELETE:刪除資料表中的資料\n",
    "    * DQL(Data Query Language)：包括SELECT:查詢資料表中的資料\n",
    "    * DCL(Data Control Language)\n",
    "    \n",
    "### (1) CREATE 新建資料庫/資料表\n",
    "**CREATE DATABASE 資料庫名稱 COLLATE 編碼;** \\\n",
    "範例1：CREATE DATABASE test COLLATE utf8mb4_unicode_ci;\\\n",
    "範例2：CREATE DATABASE test COLLATE utf8_general_ci;\n",
    "\n",
    "**CREATE TABLE 資料表(\n",
    "column1 datatype,\n",
    "column2 datatype, column3 datatype, .....\n",
    "columnN datatype, );**\\\n",
    "範例：CREATE TABLE IF NOT EXISTS book (\\\n",
    "    id int(10) PRIMARY KEY NOT NULL AUTO_INCREMENT,\\\n",
    "    date varchar(8) NOT NULL,\\\n",
    "    books varchar(128) NOT NULL,\\\n",
    "    isbn varchar(16) NOT NULL,\\\n",
    "    price int(5) NOT NULL\\\n",
    ")ENGINE=InnoDB DEFAULT CHARSET=utf8mb4;\n",
    "\n",
    "常見資料類型：\n",
    "- INT\n",
    "- VARCHAR(M)：動態長度，用在不確定但有限度的字數上。M 代表字元數而非 bytes，M 的值為 0 ~ 65,535。不同字元集(character set)佔的空間不同，UTF-8 一個字元要佔用 4 bytes，所以 VARCHAR(10) 會佔 40 bytes\n",
    "- TEXT：需要儲存極大量文字時使用 (不確定字數且無限度的字數)\n",
    "- DATE：格式：'YYYY-MM-DD'。支援範圍：'1000-01-01' ~ '9999-12-31'\n",
    "- BLOB：可儲存大量資料，例如圖片，0 ~ 65535 bytes\n",
    "- CHAR(M)：固定長度，空白字元填充。M 標示字元數而非 bytes，M 的值為 0 ~ 255\n",
    "\n",
    "\n",
    "### (2) INSERT 新增資料\n",
    "**INSERT INTO資料表名稱 (欄位1, 欄位2, ...) VALUES (值1, 值2, ...);**\\\n",
    "範例：INSERT INTO book (date, books, isbn, price) VALUES ('20181130','從零開始學 Python 程式設計', '9789864343492', 580);\n",
    "\n",
    "### (3) UPDATE 更新資料\n",
    "**UPDATE 資料表名稱 SET 欄位1 = 新值1, 欄位2 = 新值2 WHERE 篩選條件;**\\\n",
    "範例：UPDATE book SET price = 320, isbn = '4789884760333' WHERE id = 2;\n",
    "\n",
    "### (4) ALTER 修改資料表結構(針對已建立資料表，新增或刪除欄位)\n",
    "**ALTER TABLE 資料表名稱 ADD/DROP 欄位名稱;**\\\n",
    "範例1：新增欄位：ALTER TABLE book ADD isbn varchar(16) COLLATE utf8_unicode_ci default \"\";\\\n",
    "範例2：刪除欄位：ALTER TABLE book DROP isbn;\n",
    "\n",
    "### (5) SELECT 查詢資料\n",
    "**SELECT 欄位名稱 FROM 資料表名稱 WHERE 篩選條件 ORDER BY 排序欄位 排序方式;**\\\n",
    "範例1：SELECT * FROM book;\\\n",
    "範例2：SELECT isbn, books FROM book;\\\n",
    "範例3：SELECT isbn FROM book where price >= 500;\\\n",
    "範例4：SELECT * FROM book ORDER BY price DESC;\\\n",
    "範例5：SELECT * FROM book ORDER BY price DESC LIMIT 0,3;\\\n",
    "範例6：SELECT COUNT(*) FROM book;\\\n",
    "其他篩選條件：IN (), NOT IN (), LIKE '%值%', NOT LIKE '%值%',  BETWEEN 值1 AND 值2\n",
    "\n",
    "### (6) DELETE 刪除資料\n",
    "**DELETE FROM 資料表名稱 WHERE 篩選條件;**\\\n",
    "範例1：DELETE FROM book WHERE id = 1;\\\n",
    "範例2：DELETE FROM book WHERE isbn = '9789864762729';\n",
    "\n",
    "### (7) DROP 刪除資料庫/資料表\n",
    "**DROP DATABASE/TABLE 資料庫/資料表名稱;**\\\n",
    "範例1：刪除資料庫：DROP DATABASE test; \\\n",
    "範例2：刪除資料表：DROP TABLE book;"
   ]
  },
  {
   "cell_type": "markdown",
   "id": "dae3a871",
   "metadata": {},
   "source": [
    "## Python 讀取 MySQL 流程\n",
    "![資料庫流程](img/資料庫流程.png)\n",
    "\n",
    "**第一種方式：Python ——> [pymysql](https://github.com/PyMySQL/PyMySQL) ——> MySQL**\n",
    "1. 安裝套件：pip install pymysql\n",
    "2. 下載安裝 [XAMPP](https://www.apachefriends.org/zh_tw/download.html)，開啟 Apache 和 MySQL，打開 [phpmyadmin](http://localhost/phpmyadmin/)\n",
    "3. import pymysql，跑以下程式碼\n",
    "\n",
    "**第二種方式：Python ——> pyodbc ——> MySQL Connector/ODBC ——> MySQL**\n",
    "1. 安裝套件：pip install pyodbc\n",
    "2. 下載安裝 [MySQL ODBC Driver](https://dev.mysql.com/downloads/connector/odbc/)\n",
    "3. 下載安裝 [ODBC Manager](http://www.odbcmanager.net/)\n",
    "4. import pyodbc，跑以下程式碼\n",
    "\n",
    "**其他：Python 操作 SQLite**\n",
    "1. 下載安裝 [sqlitebrowser](https://sqlitebrowser.org/dl/)\n",
    "2. import sqlite3，跑以下程式碼"
   ]
  },
  {
   "cell_type": "markdown",
   "id": "8006a7fd",
   "metadata": {},
   "source": [
    "## 一、透過 pymysql 操作 MySQL"
   ]
  },
  {
   "cell_type": "code",
   "execution_count": null,
   "id": "e5bcaf56",
   "metadata": {},
   "outputs": [],
   "source": [
    "import pymysql\n",
    "import pandas as pd\n",
    "import warnings\n",
    "warnings.filterwarnings('ignore')"
   ]
  },
  {
   "cell_type": "code",
   "execution_count": null,
   "id": "1e0aa7c0",
   "metadata": {},
   "outputs": [],
   "source": [
    "con = pymysql.connect(host = \"localhost\",\n",
    "                    user = \"root\",\n",
    "                    password = \"\",\n",
    "                    database = \"test\",\n",
    "                    port = 3306)\n",
    "cur = con.cursor()\n",
    "\n",
    "\n",
    "# 如果要存資料進資料庫才要帶入 data 參數，為 list 或 dict 格式\n",
    "# sql 中需設定對應的 %s 來帶入 list 資料，dict 則需要設定 %(索引名)s\n",
    "# cur.execute(sql, data)\n",
    "\n",
    "#如果是新增、刪除或修改指令需再執行\n",
    "# con.commit()"
   ]
  },
  {
   "cell_type": "markdown",
   "id": "a654a8cc",
   "metadata": {},
   "source": [
    "### 1.1 CREATE 新建資料表"
   ]
  },
  {
   "cell_type": "code",
   "execution_count": null,
   "id": "a486f33f",
   "metadata": {
    "scrolled": true
   },
   "outputs": [],
   "source": [
    "try:\n",
    "    sql = \"\"\"CREATE TABLE IF NOT EXISTS book (\n",
    "        id int(10) PRIMARY KEY NOT NULL AUTO_INCREMENT,\n",
    "        date varchar(8) NOT NULL,\n",
    "        books varchar(128) NOT NULL,\n",
    "        isbn varchar(16) NOT NULL,\n",
    "        price int(5) NOT NULL\n",
    "    )ENGINE=InnoDB DEFAULT CHARSET=utf8mb4;\"\"\"\n",
    "    cur.execute(sql)\n",
    "except Exception as e:\n",
    "    print(\"異常發生:{}\".format(e))\n",
    "    con.rollback()\n",
    "    \n",
    "cur.close()\n",
    "con.close()"
   ]
  },
  {
   "cell_type": "markdown",
   "id": "e02cca69",
   "metadata": {},
   "source": [
    "### 1.2 INSERT 新增資料"
   ]
  },
  {
   "cell_type": "code",
   "execution_count": null,
   "id": "c7ce02dd",
   "metadata": {},
   "outputs": [],
   "source": [
    "date = \"20181130\"\n",
    "books = '從零開始學 Python 程式設計'\n",
    "isbn = '9789864343492'\n",
    "price = 580\n",
    "\n",
    "sql = \"INSERT INTO book (date, books, isbn, price) VALUES (%s, %s, %s, %s);\"\n",
    "# data2 = {'date':'','books':'33','isbn':'32ddwdqwdwed','price':'2022-10-01'}    # dict 格式的資料也可以新增進去\n",
    "# sql2 = \"INSERT INTO book (date, books, isbn, price) VALUES (%(date)s, %(books)s, %(isbn)s, %(price)s)\"\n",
    "# cur.execute(sql2, data2)\n",
    "\n",
    "try:\n",
    "    cur.execute(sql, (date, books, isbn, price))\n",
    "    con.commit()\n",
    "except Exception as e:\n",
    "    print(\"異常發生:{}\".format(e))\n",
    "    con.rollback()\n",
    "    \n",
    "cur.close()\n",
    "con.close()"
   ]
  },
  {
   "cell_type": "code",
   "execution_count": null,
   "id": "c9cbd799",
   "metadata": {},
   "outputs": [],
   "source": [
    "con = mysql.connect(host = \"localhost\",\n",
    "                    user = \"root\",\n",
    "                    password = \"\",\n",
    "                    database = \"test\",\n",
    "                    port = 3306,\n",
    "                    cursorclass = pymysql.cursors.DictCursor)\n",
    "\n",
    "data = [\"20181130\", '從零開始學 Python 程式設計', '9789864343492', 580]\n",
    "\n",
    "with con:\n",
    "    with con.cursor() as cur:\n",
    "        sql = \"INSERT INTO `book` (`date`, `books`, `isbn`, `price`) VALUES (%s, %s, %s, %s);\"\n",
    "        cur.execute(sql, data)\n",
    "    con.commit()\n",
    "    \n",
    "    with con.cursor() as cur:\n",
    "        sql = \"SELECT `id`, `password` FROM `users` WHERE `email`=%s\"\n",
    "        cursor.execute(sql, ('webmaster@python.org',))\n",
    "        result = cursor.fetchone()\n",
    "        print(result)"
   ]
  },
  {
   "cell_type": "markdown",
   "id": "54038241",
   "metadata": {},
   "source": [
    "### 1.2 INSERT 同時新增多筆資料"
   ]
  },
  {
   "cell_type": "code",
   "execution_count": null,
   "id": "86bc3e0c",
   "metadata": {},
   "outputs": [],
   "source": [
    "books = [( '20171221', 'Python 入門邁向高手之路王者歸來', '9789865000592', 699),\n",
    "         ( '20180904', 'Python 程式設計入門：金融商管實務案例, 3/e', '9789864343300', 550),\n",
    "         ( '20190815', 'Python 最強入門邁向頂尖高手之路：王者歸來', '9789869807241', 1000),\n",
    "         ( '20190705', '超圖解 Python 程式設計入門', '9789863125952', 650),\n",
    "         ( '20161229', 'Python 自動化的樂趣｜搞定重複瑣碎 & 單調無聊的工作', '9789864762729', 500),\n",
    "         ( '20190325', 'Python零基礎入門班：打好程式設計、運算思維與邏輯訓練基本功', '9789865020798', 390),\n",
    "         ( '20190806', '秋聲教你玩Python：給挑戰者的修行之路', '9789864344147', 450),\n",
    "         ( '20161102', 'Python 程式設計超入門', '9789863123798', 420),\n",
    "         ( '20160630', 'Python 程式設計入門指南', '9789864760527', 520),\n",
    "         ( '20170421', '學會 Python：從不懂，到玩上手', '9789863124245', 550)\n",
    "        ] \n",
    "\n",
    "sql = \"INSERT INTO book (date, books, isbn, price) VALUES (%s, %s, %s, %s);\"\n",
    "\n",
    "try:\n",
    "    cur.executemany(sql, books)\n",
    "    con.commit()\n",
    "except Exception as e:\n",
    "    print(\"異常發生:{}\".format(e))\n",
    "    con.rollback()\n",
    "    \n",
    "cur.close()\n",
    "con.close()"
   ]
  },
  {
   "cell_type": "markdown",
   "id": "8284e166",
   "metadata": {},
   "source": [
    "### 1.3 UPDATE 更新資料"
   ]
  },
  {
   "cell_type": "code",
   "execution_count": null,
   "id": "5f717220",
   "metadata": {},
   "outputs": [],
   "source": [
    "sql = \"UPDATE book SET price = %s WHERE id = %s;\"\n",
    "# data2 = {'price': 300, 'isbn':'4581825020733', 'id':'1'}        # dict 格式的資料也可以更新進去\n",
    "# sql2 = \"UPDATE news SET price=%(price)s, isbn=%(isbn)s WHERE id=%(id)s\"\n",
    "# cur.execute(sql2, data2)\n",
    "\n",
    "try:\n",
    "    cur.execute(sql, (799, 6))\n",
    "    con.commit() \n",
    "except Exception as e:\n",
    "    print(\"異常發生:{}\".format(e))\n",
    "    con.rollback\n",
    "\n",
    "cur.close()\n",
    "con.close()"
   ]
  },
  {
   "cell_type": "markdown",
   "id": "55380238",
   "metadata": {},
   "source": [
    "### 1.4 SELECT 查詢資料"
   ]
  },
  {
   "cell_type": "code",
   "execution_count": null,
   "id": "695a56e1",
   "metadata": {},
   "outputs": [],
   "source": [
    "with con:\n",
    "    with con.cursor() as cur:\n",
    "        sql = \"SELECT * FROM book;\"\n",
    "        cur.execute(sql)\n",
    "        result = cur.fetchall()\n",
    "        count = cur.rowcount    # 總共的資料筆數\n",
    "        print(result)"
   ]
  },
  {
   "cell_type": "code",
   "execution_count": null,
   "id": "2a339106",
   "metadata": {
    "scrolled": true
   },
   "outputs": [],
   "source": [
    "sql = \"SELECT * FROM book;\"\n",
    "cur.execute(sql)\n",
    "result = cur.fetchall()        # fetchall() 返回的是 tuple 格式，fetchone() 只取結果第一筆資料\n",
    "df = pd.DataFrame(result)\n",
    "    \n",
    "cur.close()\n",
    "con.close()"
   ]
  },
  {
   "cell_type": "markdown",
   "id": "4196f0a9",
   "metadata": {},
   "source": [
    "### 1.4 使用 Pandas 讀取 MySQL"
   ]
  },
  {
   "cell_type": "code",
   "execution_count": null,
   "id": "e2454ba3",
   "metadata": {},
   "outputs": [],
   "source": [
    "con = mysql.connect(host = \"localhost\",\n",
    "                    user = \"root\",\n",
    "                    password = \"\",\n",
    "                    database = \"test\",\n",
    "                    port = 3306,\n",
    "                    cursorclass = pymysql.cursors.DictCursor)\n",
    "\n",
    "sql = \"SELECT * FROM book\"\n",
    "df = pd.read_sql(sql, con = con)"
   ]
  },
  {
   "cell_type": "markdown",
   "id": "19274b58",
   "metadata": {},
   "source": [
    "### 1.5 DELETE 刪除資料"
   ]
  },
  {
   "cell_type": "code",
   "execution_count": null,
   "id": "04cdcd32",
   "metadata": {},
   "outputs": [],
   "source": [
    "sql = \"DELETE FROM book WHERE id = %s;\"\n",
    "\n",
    "try:\n",
    "    cur.execute(sql, (3, ))\n",
    "    con.commit()\n",
    "    \n",
    "except Exception as e:\n",
    "    print(\"異常發生:{}\".format(e))\n",
    "    con.rollback()\n",
    "    \n",
    "cur.close()\n",
    "con.close()"
   ]
  },
  {
   "cell_type": "markdown",
   "id": "8e107867",
   "metadata": {},
   "source": [
    "### 1.6 DROP 刪除資料表"
   ]
  },
  {
   "cell_type": "code",
   "execution_count": null,
   "id": "e15f0df4",
   "metadata": {},
   "outputs": [],
   "source": [
    "sql = \"DROP TABLE IF EXISTS book;\"\n",
    "cur.execute(sql)\n",
    "\n",
    "cur.close()\n",
    "con.close()"
   ]
  },
  {
   "cell_type": "markdown",
   "id": "1daf3f5a",
   "metadata": {},
   "source": [
    "## 二、Python 操作 SQLite"
   ]
  },
  {
   "cell_type": "code",
   "execution_count": null,
   "id": "0c1aa04c",
   "metadata": {},
   "outputs": [],
   "source": [
    "import sqlite3 as lite\n",
    "import pandas as pd"
   ]
  },
  {
   "cell_type": "markdown",
   "id": "75075663",
   "metadata": {},
   "source": [
    "### 2.1 CREATE 新建資料表"
   ]
  },
  {
   "cell_type": "code",
   "execution_count": null,
   "id": "6b65d0c8",
   "metadata": {},
   "outputs": [],
   "source": [
    "con = lite.connect(\"test.sqlite\")\n",
    "cur = con.cursor()\n",
    "cur.execute(\"CREATE TABLE IF NOT EXISTS book(id int primary key, date text, books text, isbn text, price int)\")\n",
    "cur.close()\n",
    "con.close()"
   ]
  },
  {
   "cell_type": "markdown",
   "id": "544d3e2b",
   "metadata": {},
   "source": [
    "### 2.2 INSERT 新增資料"
   ]
  },
  {
   "cell_type": "code",
   "execution_count": null,
   "id": "7517fa80",
   "metadata": {},
   "outputs": [],
   "source": [
    "con = lite.connect(\"test.sqlite\")\n",
    "cur = con.cursor()\n",
    "\n",
    "date = \"20181130\"\n",
    "books = '從零開始學 Python 程式設計'\n",
    "isbn = '9789864343492'\n",
    "price = 580\n",
    "sql = \"INSERT INTO book (date, books, isbn, price) VALUES ('{}','{}', '{}', '{}');\".format(date, books, isbn, price)\n",
    "\n",
    "try:\n",
    "    cur.execute(sql)\n",
    "#     cur.execute(\"INSERT INTO book (date, books, isbn, price) VALUES (?,?,?,?);\", (date, books, isbn, price))\n",
    "    con.commit()\n",
    "except Exception as e:\n",
    "    print(\"異常發生:{}\".format(e))\n",
    "    con.rollback()\n",
    "\n",
    "cur.close()\n",
    "con.close()"
   ]
  },
  {
   "cell_type": "markdown",
   "id": "2ce6e216",
   "metadata": {},
   "source": [
    "### 2.2 INSERT 同時新增多筆資料"
   ]
  },
  {
   "cell_type": "code",
   "execution_count": null,
   "id": "9662ca45",
   "metadata": {},
   "outputs": [],
   "source": [
    "import booklist\n",
    "\n",
    "con = lite.connect(\"test.sqlite\")\n",
    "cur = con.cursor()\n",
    "books = booklist.getbooklist()\n",
    "\n",
    "try:\n",
    "    cur.executemany(\"INSERT INTO book (date, books, isbn, price) VALUES (?,?,?,?);\", books)\n",
    "    con.commit()\n",
    "except Exception as e:\n",
    "    print(\"異常發生:{}\".format(e))\n",
    "    con.rollback()\n",
    "    \n",
    "cur.close()\n",
    "con.close()"
   ]
  },
  {
   "cell_type": "markdown",
   "id": "7444c431",
   "metadata": {},
   "source": [
    "### 2.3 UPDATE 更新資料"
   ]
  },
  {
   "cell_type": "code",
   "execution_count": null,
   "id": "b4c34e0a",
   "metadata": {},
   "outputs": [],
   "source": [
    "con = lite.connect(\"test.sqlite\")\n",
    "cur = con.cursor()\n",
    "sql = \"UPDATE book SET price = ? WHERE id = ?;\"\n",
    "\n",
    "try:\n",
    "    cur.execute(sql, (600, 1))\n",
    "    con.commit() \n",
    "except Exception as e:\n",
    "    print(e)\n",
    "    con.rollback\n",
    "\n",
    "cur.close()\n",
    "con.close()"
   ]
  },
  {
   "cell_type": "markdown",
   "id": "1b8a669b",
   "metadata": {},
   "source": [
    "### 2.4 SELECT 查詢資料"
   ]
  },
  {
   "cell_type": "code",
   "execution_count": null,
   "id": "a9077047",
   "metadata": {},
   "outputs": [],
   "source": [
    "con = lite.connect(\"test.sqlite\")\n",
    "cur = con.cursor()\n",
    "result = cur.execute(\"SELECT * FROM BOOK;\")\n",
    "for row in result:\n",
    "    print(row[1], row[2], row[3], row[4])\n",
    "cur.close()\n",
    "con.close()"
   ]
  },
  {
   "cell_type": "markdown",
   "id": "1068060c",
   "metadata": {},
   "source": [
    "### 2.4 使用 Pandas 讀取 SQLite"
   ]
  },
  {
   "cell_type": "code",
   "execution_count": null,
   "id": "ec2202b2",
   "metadata": {},
   "outputs": [],
   "source": [
    "with lite.connect('test.sqlite') as con:\n",
    "    df = pd.read_sql_query('SELECT * FROM book;', con)\n",
    "df.head()"
   ]
  },
  {
   "cell_type": "markdown",
   "id": "71deddae",
   "metadata": {},
   "source": [
    "### 2.5 DELETE 刪除資料"
   ]
  },
  {
   "cell_type": "code",
   "execution_count": null,
   "id": "5c90bc8b",
   "metadata": {},
   "outputs": [],
   "source": [
    "con = lite.connect(\"test.sqlite\")\n",
    "cur = con.cursor()\n",
    "sql = \"DELETE FROM book WHERE id = ?;\"\n",
    "\n",
    "try:\n",
    "    cur.execute(sql, (2, ))\n",
    "    con.commit() \n",
    "except Exception as e: #異常處理\n",
    "    print(\"異常發生:{}\".format(e))\n",
    "    con.rollback()\n",
    "    \n",
    "cur.close()\n",
    "con.close()"
   ]
  },
  {
   "cell_type": "markdown",
   "id": "79fd7f77",
   "metadata": {},
   "source": [
    "### 2.6 DROP 刪除資料表"
   ]
  },
  {
   "cell_type": "code",
   "execution_count": null,
   "id": "d91de74b",
   "metadata": {},
   "outputs": [],
   "source": [
    "con = lite.connect(\"test.sqlite\")\n",
    "cur = con.cursor()\n",
    "cur.execute(\"DROP TABLE book;\")\n",
    "cur.close()\n",
    "con.close()"
   ]
  },
  {
   "cell_type": "markdown",
   "id": "7bed76d4",
   "metadata": {},
   "source": [
    "### 重要補充1：使用 Pandas 整批寫入 SQLite"
   ]
  },
  {
   "cell_type": "code",
   "execution_count": null,
   "id": "b1c1318a",
   "metadata": {},
   "outputs": [],
   "source": [
    "import booklist\n",
    "\n",
    "books = booklist.getbooklist()\n",
    "df = pd.DataFrame(books)\n",
    "\n",
    "with lite.connect(\"test.sqlite\") as con:\n",
    "    df.to_sql(name ='book', con = con, if_exists='replace')"
   ]
  }
 ],
 "metadata": {
  "kernelspec": {
   "display_name": "Python 3 (ipykernel)",
   "language": "python",
   "name": "python3"
  },
  "language_info": {
   "codemirror_mode": {
    "name": "ipython",
    "version": 3
   },
   "file_extension": ".py",
   "mimetype": "text/x-python",
   "name": "python",
   "nbconvert_exporter": "python",
   "pygments_lexer": "ipython3",
   "version": "3.9.0"
  }
 },
 "nbformat": 4,
 "nbformat_minor": 5
}
